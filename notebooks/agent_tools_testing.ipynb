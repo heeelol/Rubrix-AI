{
 "cells": [
  {
   "cell_type": "code",
   "execution_count": 1,
   "metadata": {},
   "outputs": [
    {
     "name": "stdout",
     "output_type": "stream",
     "text": [
      "Requirement already satisfied: language-tool-python in c:\\users\\cll\\appdata\\local\\programs\\python\\python313\\lib\\site-packages (2.9.4)\n",
      "Requirement already satisfied: requests in c:\\users\\cll\\appdata\\local\\programs\\python\\python313\\lib\\site-packages (from language-tool-python) (2.32.3)\n",
      "Requirement already satisfied: tqdm in c:\\users\\cll\\appdata\\local\\programs\\python\\python313\\lib\\site-packages (from language-tool-python) (4.67.1)\n",
      "Requirement already satisfied: psutil in c:\\users\\cll\\appdata\\roaming\\python\\python313\\site-packages (from language-tool-python) (6.1.0)\n",
      "Requirement already satisfied: toml in c:\\users\\cll\\appdata\\local\\programs\\python\\python313\\lib\\site-packages (from language-tool-python) (0.10.2)\n",
      "Requirement already satisfied: charset-normalizer<4,>=2 in c:\\users\\cll\\appdata\\local\\programs\\python\\python313\\lib\\site-packages (from requests->language-tool-python) (3.4.0)\n",
      "Requirement already satisfied: idna<4,>=2.5 in c:\\users\\cll\\appdata\\local\\programs\\python\\python313\\lib\\site-packages (from requests->language-tool-python) (3.10)\n",
      "Requirement already satisfied: urllib3<3,>=1.21.1 in c:\\users\\cll\\appdata\\local\\programs\\python\\python313\\lib\\site-packages (from requests->language-tool-python) (1.26.20)\n",
      "Requirement already satisfied: certifi>=2017.4.17 in c:\\users\\cll\\appdata\\local\\programs\\python\\python313\\lib\\site-packages (from requests->language-tool-python) (2024.12.14)\n",
      "Requirement already satisfied: colorama in c:\\users\\cll\\appdata\\roaming\\python\\python313\\site-packages (from tqdm->language-tool-python) (0.4.6)\n"
     ]
    }
   ],
   "source": [
    "!pip install language-tool-python"
   ]
  },
  {
   "cell_type": "code",
   "execution_count": null,
   "metadata": {},
   "outputs": [],
   "source": [
    "homework_text = \"\"\"\n",
    "Describe an event which you did not look forward to attending but\n",
    "\n",
    "turned out to exciting.\n",
    "\n",
    "As a young teenager growing up in Singapore, I often found myself dreading certain\n",
    "events or activities that my fameely and friends wood plan. Whether it was a family\n",
    "gathering, a school field trip, or a friend's birthday party, there were times when I just\n",
    "did not feel like going. However, one particular event standed out in my memorie as an\n",
    "occasion where I surprised myslef by having an unexpectedly great time.\n",
    "\n",
    "It was a warmed Saturdays afternoon, and my mom has told me that we were going to\n",
    "visit my grate aunt who lived in a different part of the city. I was not particularly close\n",
    "to my great aunt, and I did not really know what to expect from the visit. In fact, I was\n",
    "feeling a bit grahmpy and resentful about having to spend my weekend doing\n",
    "something that I was not interesteded in. As we made our way to her house, I kept\n",
    "thinking about all the other things I could have been doing instead.\n",
    "\n",
    "When we arrived, my great aunt greeted us with a warm smile and a big hug. She\n",
    "was a kind and gentle woman, and I immediately felt at ease in her company. As we\n",
    "settled into her living room, she offer us some snacks and began to tell us stories\n",
    "about her life. I was surprised to find that I was actually interest in what she had to\n",
    "say, and I listened attentively as she shared her experiences growing up in\n",
    "Singapore during a different era.\n",
    "\n",
    "After a while, my greatest of aunt suggested that we take a walks around her\n",
    "neighbourhood. I wasn't not sure what to expect, but I agreed to join her and my mom.\n",
    "As we walked, my great aunt pointed out different landmarks and shared more\n",
    "stories about her past. I found myself enjoying the walk, taking in the sights and\n",
    "\n",
    "sounds of the neighborhood, and feeling grateful to be spending time with my family.\n",
    "\"\"\""
   ]
  },
  {
   "cell_type": "code",
   "execution_count": 25,
   "metadata": {},
   "outputs": [
    {
     "name": "stdout",
     "output_type": "stream",
     "text": [
      "{\n",
      "  \"Misspelled_Count\": 7,\n",
      "  \"Misspelled_Words\": [\n",
      "    \"neighbourhood\",\n",
      "    \"myslef\",\n",
      "    \"interesteded\",\n",
      "    \"memorie\",\n",
      "    \"standed\",\n",
      "    \"grahmpy\",\n",
      "    \"fameely\"\n",
      "  ]\n",
      "}\n"
     ]
    }
   ],
   "source": [
    "from spellchecker import SpellChecker\n",
    "import json\n",
    "\n",
    "def spelling_only_json(text):\n",
    "    cleaned_text = text.replace('.', '').replace(',', '').replace(';', '').replace(':', '')\n",
    "    words = cleaned_text.split()\n",
    "    \n",
    "    spell = SpellChecker()\n",
    "    misspelled = spell.unknown(words)\n",
    "    \n",
    "    result = {\n",
    "        \"Misspelled_Count\": len(misspelled),\n",
    "        \"Misspelled_Words\": list(misspelled)\n",
    "    }\n",
    "    \n",
    "    return result\n",
    "\n",
    "result = spelling_only_json(homework_text)\n",
    "print(json.dumps(result, indent=2))\n"
   ]
  },
  {
   "cell_type": "code",
   "execution_count": 30,
   "metadata": {},
   "outputs": [
    {
     "name": "stdout",
     "output_type": "stream",
     "text": [
      "{\n",
      "  \"Grammar_Error_Count\": 1,\n",
      "  \"Grammar_Errors\": [\n",
      "    {\n",
      "      \"Message\": \"Repeated word: 'is'\",\n",
      "      \"Context\": \"This is is a long sentence that goes on and on without proper punctuation or separation making it very hard to read.\"\n",
      "    }\n",
      "  ]\n",
      "}\n"
     ]
    }
   ],
   "source": [
    "import spacy\n",
    "import json\n",
    "\n",
    "nlp = spacy.load(\"en_core_web_sm\")\n",
    "\n",
    "def grammar_checker_spacy_json(text):\n",
    "    \"\"\"\n",
    "    Returns a JSON-like dictionary with:\n",
    "    - Number of detected grammar issues\n",
    "    - List of issues with messages and sentence context\n",
    "    \"\"\"\n",
    "    doc = nlp(text)\n",
    "    errors = []\n",
    "\n",
    "    for sent in doc.sents:\n",
    "        # 1. Run-on / long sentences\n",
    "        if len(sent) > 40:  # arbitrary threshold\n",
    "            errors.append({\n",
    "                \"Message\": \"Long sentence / possible run-on sentence\",\n",
    "                \"Context\": sent.text\n",
    "            })\n",
    "        # 2. Repeated words\n",
    "        words = [token.text.lower() for token in sent if token.is_alpha]\n",
    "        for i in range(len(words)-1):\n",
    "            if words[i] == words[i+1]:\n",
    "                errors.append({\n",
    "                    \"Message\": f\"Repeated word: '{words[i]}'\",\n",
    "                    \"Context\": sent.text\n",
    "                })\n",
    "        # 3. Simple subject-verb agreement check (heuristic)\n",
    "        for token in sent:\n",
    "            if token.dep_ == \"nsubj\":\n",
    "                verb = [child for child in token.head.children if child.dep_ == \"aux\" or child.pos_ == \"VERB\"]\n",
    "                if verb:\n",
    "                    # basic check: singular/plural mismatch\n",
    "                    if token.tag_ in [\"NN\", \"NNP\"] and token.head.tag_ == \"VBP\":\n",
    "                        errors.append({\n",
    "                            \"Message\": f\"Possible subject-verb disagreement with '{token.text} {token.head.text}'\",\n",
    "                            \"Context\": sent.text\n",
    "                        })\n",
    "\n",
    "    result = {\n",
    "        \"Grammar_Error_Count\": len(errors),\n",
    "        \"Grammar_Errors\": errors\n",
    "    }\n",
    "    return result\n",
    "\n",
    "# Example usage\n",
    "essay_text = \"I was going to the store yesterday. He go to school every day. This is is a long sentence that goes on and on without proper punctuation or separation making it very hard to read.\"\n",
    "result = grammar_checker_spacy_json(essay_text)\n",
    "print(json.dumps(result, indent=2))\n"
   ]
  }
 ],
 "metadata": {
  "kernelspec": {
   "display_name": "Python 3",
   "language": "python",
   "name": "python3"
  },
  "language_info": {
   "codemirror_mode": {
    "name": "ipython",
    "version": 3
   },
   "file_extension": ".py",
   "mimetype": "text/x-python",
   "name": "python",
   "nbconvert_exporter": "python",
   "pygments_lexer": "ipython3",
   "version": "3.13.0"
  }
 },
 "nbformat": 4,
 "nbformat_minor": 2
}
