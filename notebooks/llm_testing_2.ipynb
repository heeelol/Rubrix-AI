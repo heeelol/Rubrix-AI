{
 "cells": [
  {
   "cell_type": "markdown",
   "metadata": {},
   "source": [
    "Testing aws api here and LLM\n"
   ]
  },
  {
   "cell_type": "code",
   "execution_count": 1,
   "metadata": {},
   "outputs": [
    {
     "name": "stdout",
     "output_type": "stream",
     "text": [
      "Requirement already satisfied: boto3 in c:\\users\\cll\\appdata\\local\\programs\\python\\python313\\lib\\site-packages (1.40.18)\n",
      "Requirement already satisfied: matplotlib in c:\\users\\cll\\appdata\\local\\programs\\python\\python313\\lib\\site-packages (3.10.0)\n",
      "Requirement already satisfied: botocore<1.41.0,>=1.40.18 in c:\\users\\cll\\appdata\\local\\programs\\python\\python313\\lib\\site-packages (from boto3) (1.40.18)\n",
      "Requirement already satisfied: jmespath<2.0.0,>=0.7.1 in c:\\users\\cll\\appdata\\local\\programs\\python\\python313\\lib\\site-packages (from boto3) (1.0.1)\n",
      "Requirement already satisfied: s3transfer<0.14.0,>=0.13.0 in c:\\users\\cll\\appdata\\local\\programs\\python\\python313\\lib\\site-packages (from boto3) (0.13.0)\n",
      "Requirement already satisfied: python-dateutil<3.0.0,>=2.1 in c:\\users\\cll\\appdata\\local\\programs\\python\\python313\\lib\\site-packages (from botocore<1.41.0,>=1.40.18->boto3) (2.9.0.post0)\n",
      "Requirement already satisfied: urllib3!=2.2.0,<3,>=1.25.4 in c:\\users\\cll\\appdata\\local\\programs\\python\\python313\\lib\\site-packages (from botocore<1.41.0,>=1.40.18->boto3) (1.26.20)\n",
      "Requirement already satisfied: six>=1.5 in c:\\users\\cll\\appdata\\local\\programs\\python\\python313\\lib\\site-packages (from python-dateutil<3.0.0,>=2.1->botocore<1.41.0,>=1.40.18->boto3) (1.17.0)\n",
      "Requirement already satisfied: contourpy>=1.0.1 in c:\\users\\cll\\appdata\\local\\programs\\python\\python313\\lib\\site-packages (from matplotlib) (1.3.1)\n",
      "Requirement already satisfied: cycler>=0.10 in c:\\users\\cll\\appdata\\local\\programs\\python\\python313\\lib\\site-packages (from matplotlib) (0.12.1)\n",
      "Requirement already satisfied: fonttools>=4.22.0 in c:\\users\\cll\\appdata\\local\\programs\\python\\python313\\lib\\site-packages (from matplotlib) (4.55.3)\n",
      "Requirement already satisfied: kiwisolver>=1.3.1 in c:\\users\\cll\\appdata\\local\\programs\\python\\python313\\lib\\site-packages (from matplotlib) (1.4.7)\n",
      "Requirement already satisfied: numpy>=1.23 in c:\\users\\cll\\appdata\\local\\programs\\python\\python313\\lib\\site-packages (from matplotlib) (2.2.1)\n",
      "Requirement already satisfied: packaging>=20.0 in c:\\users\\cll\\appdata\\local\\programs\\python\\python313\\lib\\site-packages (from matplotlib) (24.2)\n",
      "Requirement already satisfied: pillow>=8 in c:\\users\\cll\\appdata\\local\\programs\\python\\python313\\lib\\site-packages (from matplotlib) (11.3.0)\n",
      "Requirement already satisfied: pyparsing>=2.3.1 in c:\\users\\cll\\appdata\\local\\programs\\python\\python313\\lib\\site-packages (from matplotlib) (3.2.0)\n"
     ]
    }
   ],
   "source": [
    "!pip install boto3 matplotlib"
   ]
  },
  {
   "cell_type": "code",
   "execution_count": 2,
   "metadata": {},
   "outputs": [],
   "source": [
    "import boto3\n",
    "\n",
    "# Bedrock client\n",
    "bedrock = boto3.client(\n",
    "    service_name=\"bedrock-runtime\",\n",
    "    region_name=\"us-east-1\"  # or your region\n",
    ")"
   ]
  },
  {
   "cell_type": "code",
   "execution_count": 9,
   "metadata": {},
   "outputs": [],
   "source": [
    "# Simulated OCR output of student homework\n",
    "homework_text = \"\"\"\n",
    "Describe an event which you did not look forward to attending but\n",
    "\n",
    "turned out to exciting.\n",
    "\n",
    "As a young teenager growing up in Singapore, I often found myself dreading certain\n",
    "events or activities that my family and friends would plan. Whether it was a family\n",
    "gathering, a school field trip, or a friend's birthday party, there were times when I just\n",
    "did not feel like going. However, one particular event stands out in my memory as an\n",
    "occasion where I surprised myself by having an unexpectedly great time.\n",
    "\n",
    "It was a warm Saturday afternoon, and my mom had told me that we were going to\n",
    "visit my great aunt who lived in a different part of the city. I was not particularly close\n",
    "to my great aunt, and I did not really know what to expect from the visit. In fact, I was\n",
    "feeling a bit grumpy and resentful about having to spend my weekend doing\n",
    "something that I was not interested in. As we made our way to her house, I kept\n",
    "thinking about all the other things I could have been doing instead.\n",
    "\n",
    "When we arrived, my great aunt greeted us with a warm smile and a big hug. She\n",
    "was a kind and gentle woman, and I immediately felt at ease in her company. As we\n",
    "settled into her living room, she offered us some snacks and began to tell us stories\n",
    "about her life. I was surprised to find that I was actually interested in what she had to\n",
    "say, and I listened attentively as she shared her experiences growing up in\n",
    "Singapore during a different era.\n",
    "\n",
    "After a while, my greatest of aunt suggested that we take a walks around her\n",
    "neighbourhood. I wasn't not sure what to expect, but I agreed to join her and my mom.\n",
    "As we walked, my great aunt pointed out different landmarks and shared more\n",
    "stories about her past. I found myself enjoying the walk, taking in the sights and\n",
    "\n",
    "sounds of the neighborhood, and feeling grateful to be spending time with my family.\n",
    "\"\"\""
   ]
  },
  {
   "cell_type": "code",
   "execution_count": null,
   "metadata": {},
   "outputs": [
    {
     "name": "stdout",
     "output_type": "stream",
     "text": [
      "Weakness Classification:\n",
      "  <analysis>\n",
      "Grammar: There are some grammatical errors such as incorrect verb tenses (\"I wasn't not sure\" instead of \"I was not sure\") and issues with subject-verb agreement (\"my greatest of aunt\" instead of \"my great aunt\").\n",
      "\n",
      "Vocabulary: The vocabulary seems appropriate for the most part. No major issues.\n",
      "\n",
      "Writing: The writing flows reasonably well, with a clear introduction, body, and conclusion. The sequence of events is logical. Some awkward phrasings could be improved.  \n",
      "\n",
      "Spelling: There are a few spelling mistakes such as \"greatest\" instead of \"great aunt\" and \"neighbourhood\" instead of \"neighborhood\".\n",
      "\n",
      "Punctuation: Occasional punctuation errors, like missing commas after introductory phrases (\"As we walked\"). But overall decent punctuation.\n",
      "</analysis>\n",
      "\n",
      "<attribute> \n",
      "Grammar: 3\n",
      "Vocabulary: 4 \n",
      "Writing: 4\n",
      "Spelling: 3\n",
      "Punctuation: 4\n",
      "</attribute>\n"
     ]
    }
   ],
   "source": [
    "import json\n",
    "\n",
    "#li loong is the lil bro\n",
    "\n",
    "prompt_classify = f\"\"\"\n",
    "<role>\n",
    "You are an English tutor. \n",
    "A student submitted the following homework:\n",
    "</role>\n",
    "\n",
    "<homework>{homework_text}</homework>\n",
    "\n",
    "<instructions>\n",
    "Analyze the student's work and identify flaws in the homework regarding each of these categories, envelope within <analysis> tags:\n",
    "- Grammar\n",
    "- Vocabulary\n",
    "- Writing\n",
    "- Spelling\n",
    "- Punctuation\n",
    "\n",
    "Provide a strength index (1 to 5), envelope within <attribute> tags:\n",
    "<example>\n",
    "Grammar: 5\n",
    "Vocabulary: 3\n",
    "Writing: 2\n",
    "Spelling: 1\n",
    "Punctuation: 4\n",
    "</example>\n",
    "</instructions>\n",
    "\"\"\"\n",
    "\n",
    "response = bedrock.invoke_model(\n",
    "    modelId=\"anthropic.claude-v2:1\",\n",
    "    body=json.dumps({\n",
    "        \"prompt\": f\"\\n\\nHuman: {prompt_classify}\\n\\nAssistant:\",\n",
    "        \"max_tokens_to_sample\": 300,\n",
    "        \"temperature\": 0.3,\n",
    "        \"stop_sequences\": [\"\\n\\nHuman:\"]\n",
    "    })\n",
    ")\n",
    "\n",
    "result = json.loads(response[\"body\"].read())\n",
    "weakness_summary = result[\"completion\"]\n",
    "print(\"Weakness Classification:\\n\", weakness_summary)"
   ]
  },
  {
   "cell_type": "code",
   "execution_count": 44,
   "metadata": {},
   "outputs": [
    {
     "ename": "TypeError",
     "evalue": "generate_radar_chart() missing 1 required positional argument: 'scores'",
     "output_type": "error",
     "traceback": [
      "\u001b[1;31m---------------------------------------------------------------------------\u001b[0m",
      "\u001b[1;31mTypeError\u001b[0m                                 Traceback (most recent call last)",
      "Cell \u001b[1;32mIn[44], line 7\u001b[0m\n\u001b[0;32m      3\u001b[0m sys\u001b[38;5;241m.\u001b[39mpath\u001b[38;5;241m.\u001b[39mappend(os\u001b[38;5;241m.\u001b[39mpath\u001b[38;5;241m.\u001b[39mabspath(\u001b[38;5;124m\"\u001b[39m\u001b[38;5;124m../utils\u001b[39m\u001b[38;5;124m\"\u001b[39m))\n\u001b[0;32m      5\u001b[0m \u001b[38;5;28;01mfrom\u001b[39;00m \u001b[38;5;21;01mgenerate_radar_chart\u001b[39;00m \u001b[38;5;28;01mimport\u001b[39;00m generate_radar_chart\n\u001b[1;32m----> 7\u001b[0m \u001b[43mgenerate_radar_chart\u001b[49m\u001b[43m(\u001b[49m\u001b[43mweakness_summary\u001b[49m\u001b[43m)\u001b[49m\n",
      "\u001b[1;31mTypeError\u001b[0m: generate_radar_chart() missing 1 required positional argument: 'scores'"
     ]
    }
   ],
   "source": [
    "import sys\n",
    "import os\n",
    "sys.path.append(os.path.abspath(\"../utils\"))\n",
    "\n",
    "from generate_radar_chart import generate_radar_chart\n",
    "\n",
    "generate_radar_chart(weakness_summary)\n"
   ]
  },
  {
   "cell_type": "code",
   "execution_count": null,
   "metadata": {},
   "outputs": [],
   "source": [
    "prompt_exercises = f\"\"\"\n",
    "Create 3 short exercises for a student with the following weaknesses:\n",
    "\n",
    "{weakness_summary}\n",
    "\n",
    "Format as:\n",
    "1. Exercise: ...\n",
    "   Answer: ...\n",
    "2. Exercise: ...\n",
    "   Answer: ...\n",
    "3. Exercise: ...\n",
    "   Answer: ...\n",
    "\"\"\"\n",
    "\n",
    "response2 = bedrock.invoke_model(\n",
    "    modelId=\"anthropic.claude-v2:1\",\n",
    "    body=json.dumps({\n",
    "        \"prompt\": f\"\\n\\nHuman: {prompt_exercises}\\n\\nAssistant:\",\n",
    "        \"max_tokens_to_sample\": 500,\n",
    "        \"temperature\": 0.7,\n",
    "        \"stop_sequences\": [\"\\n\\nHuman:\"]\n",
    "    })\n",
    ")\n",
    "\n",
    "result2 = json.loads(response2[\"body\"].read())\n",
    "exercises = result2[\"completion\"]\n",
    "print(\"Generated Exercises:\\n\", exercises)\n"
   ]
  }
 ],
 "metadata": {
  "kernelspec": {
   "display_name": "Python 3",
   "language": "python",
   "name": "python3"
  },
  "language_info": {
   "codemirror_mode": {
    "name": "ipython",
    "version": 3
   },
   "file_extension": ".py",
   "mimetype": "text/x-python",
   "name": "python",
   "nbconvert_exporter": "python",
   "pygments_lexer": "ipython3",
   "version": "3.13.0"
  }
 },
 "nbformat": 4,
 "nbformat_minor": 2
}
