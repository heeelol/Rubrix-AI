{
 "cells": [
  {
   "cell_type": "markdown",
   "metadata": {},
   "source": [
    "Testing aws api here and LLM\n"
   ]
  },
  {
   "cell_type": "code",
   "execution_count": 16,
   "metadata": {},
   "outputs": [
    {
     "name": "stdout",
     "output_type": "stream",
     "text": [
      "Requirement already satisfied: boto3 in c:\\users\\cll\\appdata\\local\\programs\\python\\python313\\lib\\site-packages (1.40.25)\n",
      "Requirement already satisfied: matplotlib in c:\\users\\cll\\appdata\\local\\programs\\python\\python313\\lib\\site-packages (3.10.0)\n",
      "Requirement already satisfied: botocore<1.41.0,>=1.40.25 in c:\\users\\cll\\appdata\\local\\programs\\python\\python313\\lib\\site-packages (from boto3) (1.40.25)\n",
      "Requirement already satisfied: jmespath<2.0.0,>=0.7.1 in c:\\users\\cll\\appdata\\local\\programs\\python\\python313\\lib\\site-packages (from boto3) (1.0.1)\n",
      "Requirement already satisfied: s3transfer<0.14.0,>=0.13.0 in c:\\users\\cll\\appdata\\local\\programs\\python\\python313\\lib\\site-packages (from boto3) (0.13.0)\n",
      "Requirement already satisfied: python-dateutil<3.0.0,>=2.1 in c:\\users\\cll\\appdata\\local\\programs\\python\\python313\\lib\\site-packages (from botocore<1.41.0,>=1.40.25->boto3) (2.9.0.post0)\n",
      "Requirement already satisfied: urllib3!=2.2.0,<3,>=1.25.4 in c:\\users\\cll\\appdata\\local\\programs\\python\\python313\\lib\\site-packages (from botocore<1.41.0,>=1.40.25->boto3) (1.26.20)\n",
      "Requirement already satisfied: six>=1.5 in c:\\users\\cll\\appdata\\local\\programs\\python\\python313\\lib\\site-packages (from python-dateutil<3.0.0,>=2.1->botocore<1.41.0,>=1.40.25->boto3) (1.17.0)\n",
      "Requirement already satisfied: contourpy>=1.0.1 in c:\\users\\cll\\appdata\\local\\programs\\python\\python313\\lib\\site-packages (from matplotlib) (1.3.1)\n",
      "Requirement already satisfied: cycler>=0.10 in c:\\users\\cll\\appdata\\local\\programs\\python\\python313\\lib\\site-packages (from matplotlib) (0.12.1)\n",
      "Requirement already satisfied: fonttools>=4.22.0 in c:\\users\\cll\\appdata\\local\\programs\\python\\python313\\lib\\site-packages (from matplotlib) (4.55.3)\n",
      "Requirement already satisfied: kiwisolver>=1.3.1 in c:\\users\\cll\\appdata\\local\\programs\\python\\python313\\lib\\site-packages (from matplotlib) (1.4.7)\n",
      "Requirement already satisfied: numpy>=1.23 in c:\\users\\cll\\appdata\\local\\programs\\python\\python313\\lib\\site-packages (from matplotlib) (2.2.1)\n",
      "Requirement already satisfied: packaging>=20.0 in c:\\users\\cll\\appdata\\local\\programs\\python\\python313\\lib\\site-packages (from matplotlib) (24.2)\n",
      "Requirement already satisfied: pillow>=8 in c:\\users\\cll\\appdata\\local\\programs\\python\\python313\\lib\\site-packages (from matplotlib) (11.3.0)\n",
      "Requirement already satisfied: pyparsing>=2.3.1 in c:\\users\\cll\\appdata\\local\\programs\\python\\python313\\lib\\site-packages (from matplotlib) (3.2.0)\n"
     ]
    }
   ],
   "source": [
    "!pip install boto3 matplotlib"
   ]
  },
  {
   "cell_type": "code",
   "execution_count": 17,
   "metadata": {},
   "outputs": [],
   "source": [
    "import boto3\n",
    "\n",
    "# Create a session with your SSO profile\n",
    "session = boto3.Session(profile_name=\"myisb01_IsbUsersPS-064566626462\")\n",
    "\n",
    "# Then create the Bedrock client from that session\n",
    "bedrock = session.client(\n",
    "    service_name=\"bedrock-runtime\",\n",
    "    region_name=\"us-east-1\"\n",
    ")\n"
   ]
  },
  {
   "cell_type": "code",
   "execution_count": 18,
   "metadata": {},
   "outputs": [],
   "source": [
    "# Simulated OCR output of student homework\n",
    "homework_text = \"\"\"\n",
    "Describe an event which you did not look forward to attending but\n",
    "\n",
    "turned out to exciting.\n",
    "\n",
    "As a young teenager growing up in Singapore, I often found myself dreading certain\n",
    "events or activities that my family and friends would plan. Whether it was a family\n",
    "gathering, a school field trip, or a friend's birthday party, there were times when I just\n",
    "did not feel like going. However, one particular event stands out in my memory as an\n",
    "occasion where I surprised myself by having an unexpectedly great time.\n",
    "\n",
    "It was a warm Saturday afternoon, and my mom had told me that we were going to\n",
    "visit my great aunt who lived in a different part of the city. I was not particularly close\n",
    "to my great aunt, and I did not really know what to expect from the visit. In fact, I was\n",
    "feeling a bit grumpy and resentful about having to spend my weekend doing\n",
    "something that I was not interested in. As we made our way to her house, I kept\n",
    "thinking about all the other things I could have been doing instead.\n",
    "\n",
    "When we arrived, my great aunt greeted us with a warm smile and a big hug. She\n",
    "was a kind and gentle woman, and I immediately felt at ease in her company. As we\n",
    "settled into her living room, she offered us some snacks and began to tell us stories\n",
    "about her life. I was surprised to find that I was actually interested in what she had to\n",
    "say, and I listened attentively as she shared her experiences growing up in\n",
    "Singapore during a different era.\n",
    "\n",
    "After a while, my greatest of aunt suggested that we take a walks around her\n",
    "neighbourhood. I wasn't not sure what to expect, but I agreed to join her and my mom.\n",
    "As we walked, my great aunt pointed out different landmarks and shared more\n",
    "stories about her past. I found myself enjoying the walk, taking in the sights and\n",
    "\n",
    "sounds of the neighborhood, and feeling grateful to be spending time with my family.\n",
    "\"\"\""
   ]
  },
  {
   "cell_type": "code",
   "execution_count": null,
   "metadata": {},
   "outputs": [
    {
     "name": "stdout",
     "output_type": "stream",
     "text": [
      "Weakness Classification:\n",
      "  <analysis>\n",
      "\n",
      "Grammar: \n",
      "- Inconsistent verb tense usage - \"I was feeling\" vs \"I kept thinking\"\n",
      "- Run-on sentence: \"As we made our way to her house, I kept thinking about all the other things I could have been doing instead.\" This should be two separate sentences.\n",
      "- Missing word in sentence: \"I wasn't not sure what to expect\" should be \"I was not sure what to expect\"\n",
      "\n",
      "Vocabulary:\n",
      "- Good vocabulary usage overall\n",
      "\n",
      "Writing:\n",
      "- Good sequence of events and details\n",
      "- Could provide more insight into thoughts and feelings at key moments\n",
      "\n",
      "Spelling:  \n",
      "- Incorrect spelling of \"greatest\" - should be \"great\"\n",
      "- Incorrect spelling of \"neighbourhood\" - should be \"neighborhood\"\n",
      "\n",
      "Punctuation:\n",
      "- Missing commas in compound sentences, for example: \"As we walked my great aunt pointed out different landmarks and shared more stories about her past.\"\n",
      "- Run-on sentence lacks proper punctuation\n",
      "</analysis>\n",
      "\n",
      "<attribute-scores>\n",
      "{\n",
      "  \"Grammar\": 3.50,\n",
      "  \"Vocabulary\": 4.00,\n",
      "  \"Writing\": 3.50,\n",
      "  \"Spelling\": 3.00,\n",
      "  \"Punctuation\": 3.00\n",
      "}\n",
      "</attribute-scores>\n"
     ]
    }
   ],
   "source": [
    "import json\n",
    "\n",
    "prompt_classify = f\"\"\"\n",
    "<role>\n",
    "You are an English tutor. \n",
    "A student submitted the following homework:\n",
    "</role>\n",
    "\n",
    "<homework>{homework_text}</homework>\n",
    "\n",
    "<instructions>\n",
    "Analyze the student's work and identify flaws in the homework regarding each of these categories, envelope within <analysis> tags:\n",
    "- Grammar\n",
    "- Vocabulary\n",
    "- Writing\n",
    "- Spelling\n",
    "- Punctuation\n",
    "\n",
    "Provide a strength index (1 to 5), in JSON format, enveloped in tags <attribute-scores>:\n",
    "<example>\n",
    "{{\n",
    "  \"Grammar\": 5.00,\n",
    "  \"Vocabulary\": 3.14,\n",
    "  \"Writing\": 2.23,\n",
    "  \"Spelling\": 1.19,\n",
    "  \"Punctuation\": 4.56\n",
    "}}\n",
    "</example>\n",
    "</instructions>\n",
    "\"\"\"\n",
    "\n",
    "response = bedrock.invoke_model(\n",
    "    modelId=\"anthropic.claude-v2:1\",\n",
    "    body=json.dumps({\n",
    "        \"prompt\": f\"\\n\\nHuman: {prompt_classify}\\n\\nAssistant:\",\n",
    "        \"max_tokens_to_sample\": 300,\n",
    "        \"temperature\": 0.3,\n",
    "        \"stop_sequences\": [\"\\n\\nHuman:\"]\n",
    "    })\n",
    ")\n",
    "\n",
    "result = json.loads(response[\"body\"].read())\n",
    "weakness_summary = result[\"completion\"]\n",
    "print(\"Weakness Classification:\\n\", weakness_summary)"
   ]
  },
  {
   "cell_type": "code",
   "execution_count": null,
   "metadata": {},
   "outputs": [
    {
     "name": "stdout",
     "output_type": "stream",
     "text": [
      "{'Grammar': 3.5, 'Vocabulary': 4.0, 'Writing': 3.5, 'Spelling': 3.0, 'Punctuation': 3.0}\n"
     ]
    }
   ],
   "source": [
    "    # Parse the response\n",
    "    result = json.loads(response[\"body\"].read())\n",
    "    weakness_summary = result[\"content\"][0][\"text\"]"
   ]
  },
  {
   "cell_type": "code",
   "execution_count": null,
   "metadata": {},
   "outputs": [
    {
     "name": "stdout",
     "output_type": "stream",
     "text": [
      " Here are 3 short exercises to target the student's weaknesses:\n",
      "\n",
      "[\n",
      "  {\n",
      "    \"Exercise\": \"Rewrite the following sentence correcting the verb tense: 'I was feeling nervous as I walked up to the door.'\",\n",
      "    \"Suggested_Answer\": \"I felt nervous as I walked up to the door.\" \n",
      "  },\n",
      "  {\n",
      "    \"Exercise\": \"Break the following run-on sentence into two separate sentences with proper punctuation: 'As we made our way to her house, I kept thinking about all the other things I could have been doing instead.'\",\n",
      "    \"Suggested_Answer\": \"As we made our way to her house, I thought about all the other things I could have been doing. I kept thinking I would rather be somewhere else.\"\n",
      "  },\n",
      "  {\n",
      "    \"Exercise\": \"Correct the spelling mistakes in the following sentence: 'We walked through the neighbourhood my great aunt grew up in.'\", \n",
      "    \"Suggested_Answer\": \"We walked through the neighborhood my great aunt grew up in.\"\n",
      "  }\n",
      "]\n"
     ]
    }
   ],
   "source": [
    "    # Parse the response\n",
    "    result2 = json.loads(response2[\"body\"].read())\n",
    "    exercises = result2[\"content\"][0][\"text\"]\n",
    "\n",
    "    # Convert the exercises string to JSON\n",
    "    exercises_json = json.loads(exercises.strip())\n",
    "    print(json.dumps(exercises_json, indent=2))"
   ]
  }
 ],
 "metadata": {
  "kernelspec": {
   "display_name": "Python 3",
   "language": "python",
   "name": "python3"
  },
  "language_info": {
   "codemirror_mode": {
    "name": "ipython",
    "version": 3
   },
   "file_extension": ".py",
   "mimetype": "text/x-python",
   "name": "python",
   "nbconvert_exporter": "python",
   "pygments_lexer": "ipython3",
   "version": "3.13.7"
  }
 },
 "nbformat": 4,
 "nbformat_minor": 2
}
