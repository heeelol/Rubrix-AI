{
 "cells": [
  {
   "cell_type": "markdown",
   "metadata": {},
   "source": [
    "Testing aws api here and LLM\n"
   ]
  },
  {
   "cell_type": "code",
   "execution_count": 1,
   "metadata": {},
   "outputs": [
    {
     "name": "stdout",
     "output_type": "stream",
     "text": [
      "Requirement already satisfied: boto3 in c:\\users\\cll\\appdata\\local\\programs\\python\\python313\\lib\\site-packages (1.40.18)\n",
      "Requirement already satisfied: matplotlib in c:\\users\\cll\\appdata\\local\\programs\\python\\python313\\lib\\site-packages (3.10.0)\n",
      "Requirement already satisfied: botocore<1.41.0,>=1.40.18 in c:\\users\\cll\\appdata\\local\\programs\\python\\python313\\lib\\site-packages (from boto3) (1.40.18)\n",
      "Requirement already satisfied: jmespath<2.0.0,>=0.7.1 in c:\\users\\cll\\appdata\\local\\programs\\python\\python313\\lib\\site-packages (from boto3) (1.0.1)\n",
      "Requirement already satisfied: s3transfer<0.14.0,>=0.13.0 in c:\\users\\cll\\appdata\\local\\programs\\python\\python313\\lib\\site-packages (from boto3) (0.13.0)\n",
      "Requirement already satisfied: python-dateutil<3.0.0,>=2.1 in c:\\users\\cll\\appdata\\local\\programs\\python\\python313\\lib\\site-packages (from botocore<1.41.0,>=1.40.18->boto3) (2.9.0.post0)\n",
      "Requirement already satisfied: urllib3!=2.2.0,<3,>=1.25.4 in c:\\users\\cll\\appdata\\local\\programs\\python\\python313\\lib\\site-packages (from botocore<1.41.0,>=1.40.18->boto3) (1.26.20)\n",
      "Requirement already satisfied: six>=1.5 in c:\\users\\cll\\appdata\\local\\programs\\python\\python313\\lib\\site-packages (from python-dateutil<3.0.0,>=2.1->botocore<1.41.0,>=1.40.18->boto3) (1.17.0)\n",
      "Requirement already satisfied: contourpy>=1.0.1 in c:\\users\\cll\\appdata\\local\\programs\\python\\python313\\lib\\site-packages (from matplotlib) (1.3.1)\n",
      "Requirement already satisfied: cycler>=0.10 in c:\\users\\cll\\appdata\\local\\programs\\python\\python313\\lib\\site-packages (from matplotlib) (0.12.1)\n",
      "Requirement already satisfied: fonttools>=4.22.0 in c:\\users\\cll\\appdata\\local\\programs\\python\\python313\\lib\\site-packages (from matplotlib) (4.55.3)\n",
      "Requirement already satisfied: kiwisolver>=1.3.1 in c:\\users\\cll\\appdata\\local\\programs\\python\\python313\\lib\\site-packages (from matplotlib) (1.4.7)\n",
      "Requirement already satisfied: numpy>=1.23 in c:\\users\\cll\\appdata\\local\\programs\\python\\python313\\lib\\site-packages (from matplotlib) (2.2.1)\n",
      "Requirement already satisfied: packaging>=20.0 in c:\\users\\cll\\appdata\\local\\programs\\python\\python313\\lib\\site-packages (from matplotlib) (24.2)\n",
      "Requirement already satisfied: pillow>=8 in c:\\users\\cll\\appdata\\local\\programs\\python\\python313\\lib\\site-packages (from matplotlib) (11.3.0)\n",
      "Requirement already satisfied: pyparsing>=2.3.1 in c:\\users\\cll\\appdata\\local\\programs\\python\\python313\\lib\\site-packages (from matplotlib) (3.2.0)\n"
     ]
    }
   ],
   "source": [
    "!pip install boto3 matplotlib"
   ]
  },
  {
   "cell_type": "code",
   "execution_count": 2,
   "metadata": {},
   "outputs": [],
   "source": [
    "import boto3\n",
    "\n",
    "# Bedrock client\n",
    "bedrock = boto3.client(\n",
    "    service_name=\"bedrock-runtime\",\n",
    "    region_name=\"us-east-1\"  # or your region\n",
    ")"
   ]
  },
  {
   "cell_type": "code",
   "execution_count": 5,
   "metadata": {},
   "outputs": [],
   "source": [
    "# Simulated OCR output of student homework\n",
    "homework_text = \"\"\"\n",
    "I has went to the store yesterday. I buyed some apples.\n",
    "\"\"\""
   ]
  },
  {
   "cell_type": "code",
   "execution_count": null,
   "metadata": {},
   "outputs": [
    {
     "name": "stdout",
     "output_type": "stream",
     "text": [
      "Weakness Classification:\n",
      "  Based on the student's writing sample, here is my analysis:\n",
      "\n",
      "Grammar: Weak\n",
      "- Incorrect verb tense - \"has went\" should be \"went\"  \n",
      "- Incorrect verb form - \"buyed\" should be \"bought\"\n",
      "\n",
      "Vocabulary: Okay\n",
      "- No apparent vocabulary issues\n",
      "\n",
      "Reading Comprehension: Unable to assess \n",
      "- The writing sample does not contain enough information to evaluate reading comprehension\n",
      "\n",
      "Writing Skills: Weak  \n",
      "- Multiple grammatical errors\n",
      "- Very short and lacks detail/elaboration\n",
      "\n",
      "In summary:\n",
      "Grammar: Weak\n",
      "Vocabulary: Okay \n",
      "Reading Comprehension: Unable to assess\n",
      "Writing Skills: Weak\n",
      "\n",
      "I would recommend focusing on fixing the grammatical errors and also encouraging the student to write longer, more descriptive sentences. Adding details and expanding on ideas will help strengthen overall writing skills. Let me know if you need any other specifics or have additional questions!\n"
     ]
    }
   ],
   "source": [
    "import json\n",
    "\n",
    "prompt_classify = f\"\"\"\n",
    "<role>\n",
    "You are an English tutor. \n",
    "A student submitted the following homework:\n",
    "</role>\n",
    "\n",
    "<homework>{homework_text}</homework>\n",
    "\n",
    "<instructions>\n",
    "Analyze the student's work and classify weaknesses in these categories:\n",
    "- Grammar\n",
    "- Vocabulary\n",
    "- Reading Comprehension\n",
    "- Writing Skills\n",
    "- Spelling\n",
    "- Punctuation\n",
    "\n",
    "Provide a short summary like:\n",
    "Grammar: Weak\n",
    "Vocabulary: Okay\n",
    "Reading Comprehension: Strong\n",
    "Writing Skills: Weak\n",
    "Spelling: Great\n",
    "Punctuation: Weak\n",
    "</instructions>\n",
    "\"\"\"\n",
    "\n",
    "response = bedrock.invoke_model(\n",
    "    modelId=\"anthropic.claude-v2:1\",\n",
    "    body=json.dumps({\n",
    "        \"prompt\": f\"\\n\\nHuman: {prompt_classify}\\n\\nAssistant:\",\n",
    "        \"max_tokens_to_sample\": 300,\n",
    "        \"temperature\": 0.3,\n",
    "        \"stop_sequences\": [\"\\n\\nHuman:\"]\n",
    "    })\n",
    ")\n",
    "\n",
    "result = json.loads(response[\"body\"].read())\n",
    "weakness_summary = result[\"completion\"]\n",
    "print(\"Weakness Classification:\\n\", weakness_summary)"
   ]
  },
  {
   "cell_type": "code",
   "execution_count": null,
   "metadata": {},
   "outputs": [],
   "source": [
    "prompt_exercises = f\"\"\"\n",
    "Create 3 short exercises for a student with the following weaknesses:\n",
    "\n",
    "{weakness_summary}\n",
    "\n",
    "Format as:\n",
    "1. Exercise: ...\n",
    "   Answer: ...\n",
    "2. Exercise: ...\n",
    "   Answer: ...\n",
    "3. Exercise: ...\n",
    "   Answer: ...\n",
    "\"\"\"\n",
    "\n",
    "response2 = bedrock.invoke_model(\n",
    "    modelId=\"anthropic.claude-v2:1\",\n",
    "    body=json.dumps({\n",
    "        \"prompt\": f\"\\n\\nHuman: {prompt_exercises}\\n\\nAssistant:\",\n",
    "        \"max_tokens_to_sample\": 500,\n",
    "        \"temperature\": 0.7,\n",
    "        \"stop_sequences\": [\"\\n\\nHuman:\"]\n",
    "    })\n",
    ")\n",
    "\n",
    "result2 = json.loads(response2[\"body\"].read())\n",
    "exercises = result2[\"completion\"]\n",
    "print(\"Generated Exercises:\\n\", exercises)\n"
   ]
  }
 ],
 "metadata": {
  "kernelspec": {
   "display_name": "Python 3",
   "language": "python",
   "name": "python3"
  },
  "language_info": {
   "codemirror_mode": {
    "name": "ipython",
    "version": 3
   },
   "file_extension": ".py",
   "mimetype": "text/x-python",
   "name": "python",
   "nbconvert_exporter": "python",
   "pygments_lexer": "ipython3",
   "version": "3.13.0"
  }
 },
 "nbformat": 4,
 "nbformat_minor": 2
}
